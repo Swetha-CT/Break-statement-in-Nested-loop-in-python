{
 "cells": [
  {
   "cell_type": "code",
   "execution_count": 20,
   "id": "b6b6d1bb",
   "metadata": {},
   "outputs": [
    {
     "name": "stdout",
     "output_type": "stream",
     "text": [
      "1 4\n",
      "1 5\n",
      "2 4\n",
      "2 5\n"
     ]
    }
   ],
   "source": [
    "# Nested loop without 'break' statement.\n",
    "\n",
    "x = [1, 2]\n",
    "y = [4, 5]\n",
    " \n",
    "for i in x:\n",
    "    for j in y:\n",
    "        print(i, j)"
   ]
  },
  {
   "cell_type": "code",
   "execution_count": 21,
   "id": "3ede2911",
   "metadata": {},
   "outputs": [
    {
     "name": "stdout",
     "output_type": "stream",
     "text": [
      "1 4\n",
      "2 4\n"
     ]
    }
   ],
   "source": [
    "# Nested loop with 'break' statement.\n",
    "\n",
    "x = [1, 2]\n",
    "y = [4, 5]\n",
    " \n",
    "for i in x:\n",
    "    for j in y:\n",
    "        print(i,j)\n",
    "        break"
   ]
  }
 ],
 "metadata": {
  "kernelspec": {
   "display_name": "Python 3 (ipykernel)",
   "language": "python",
   "name": "python3"
  },
  "language_info": {
   "codemirror_mode": {
    "name": "ipython",
    "version": 3
   },
   "file_extension": ".py",
   "mimetype": "text/x-python",
   "name": "python",
   "nbconvert_exporter": "python",
   "pygments_lexer": "ipython3",
   "version": "3.11.2"
  }
 },
 "nbformat": 4,
 "nbformat_minor": 5
}
